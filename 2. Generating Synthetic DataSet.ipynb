{
 "cells": [
  {
   "cell_type": "markdown",
   "metadata": {},
   "source": [
    "# Generating a Fake Data for The Revenue Optimization Problem\n",
    "\n",
    "Because Data is rarely available to test the performance of Algorithms in real world scenarios, synthetic datasets play an important role. This is important because the problem can be scaled up or down to study the behaviour of the Algorithm. In Our case we want to generate data for queries available for a said number of companies who need to pay an advertisement fee for display of thier add when the query is requeste.\n",
    "\n",
    "To Define the problem. We need to Know first the number of companies and the number of queries available. Also each company has a total budget and a price tag for each query (Price per click). \n",
    "\n",
    "NC = Number of Companies\n",
    "\n",
    "NQ = Number of Queries\n",
    "\n",
    "CB = Company budgets\n",
    "\n",
    "PPC = Price per click  (NC X NQ matrix)\n",
    "\n",
    "First we will Define the Number of Companies and Queries then randomly Company budget and thier corresponding price per click"
   ]
  },
  {
   "cell_type": "code",
   "execution_count": 1,
   "metadata": {},
   "outputs": [],
   "source": [
    "# Number of Companies and Number of Queries\n",
    "\n",
    "NC = 10\n",
    "NQ = 12"
   ]
  },
  {
   "cell_type": "code",
   "execution_count": 2,
   "metadata": {},
   "outputs": [],
   "source": [
    "# Generate Company Budget\n",
    "\n",
    "import numpy as np\n",
    "\n",
    "def Generate_company_budget(NC, BR = (200, 2000)):\n",
    "    \"\"\" NC: number of companies an interger\n",
    "        BR: Budget range and is a tuple (lower bound, upper bound)\n",
    "    returns a list the size of number of companies with \n",
    "    randomly assigned budgets\"\"\"\n",
    "    \n",
    "    return np.random.randint(BR[0],BR[1], NC)"
   ]
  },
  {
   "cell_type": "code",
   "execution_count": 3,
   "metadata": {},
   "outputs": [
    {
     "data": {
      "text/plain": [
       "array([1460,  241, 1903, 1338,  402,  771,  280, 1929, 1437,  323])"
      ]
     },
     "execution_count": 3,
     "metadata": {},
     "output_type": "execute_result"
    }
   ],
   "source": [
    "Generate_CB(NC)"
   ]
  },
  {
   "cell_type": "code",
   "execution_count": 17,
   "metadata": {},
   "outputs": [],
   "source": [
    "def Generate_price_per_click(NC, NQ, PR = (1, 5)):\n",
    "    \"\"\" PR: the price per click range. Has to be lower than company budget\n",
    "    \n",
    "    returns an NC X NQ array\"\"\"\n",
    "    \n",
    "    return np.random.randint(PR[0],PR[1], (NC,NQ))\n",
    "    "
   ]
  },
  {
   "cell_type": "code",
   "execution_count": 18,
   "metadata": {},
   "outputs": [
    {
     "data": {
      "text/plain": [
       "array([[4, 4, 4, 2, 4, 2, 3, 3],\n",
       "       [1, 3, 2, 1, 1, 4, 1, 1],\n",
       "       [1, 1, 4, 1, 1, 3, 3, 1],\n",
       "       [4, 2, 2, 3, 3, 3, 2, 1],\n",
       "       [3, 1, 3, 3, 1, 1, 1, 3]])"
      ]
     },
     "execution_count": 18,
     "metadata": {},
     "output_type": "execute_result"
    }
   ],
   "source": [
    "Generate_price_per_click(NC, NQ)"
   ]
  },
  {
   "cell_type": "markdown",
   "metadata": {},
   "source": [
    "# Click Through Rate (CTR) and Average Price Per Display (APD)\n",
    "\n",
    "For each company its click through rate for a given query is defined and used to determine the average price for display of an add. CTR for a company and query falls in the range 0 to 1. this is the probability of a user clickking on the add of a given company. CTR is generated randomly and ADP is calculated by multiplying the PPC by CTR element wise."
   ]
  },
  {
   "cell_type": "code",
   "execution_count": 19,
   "metadata": {},
   "outputs": [],
   "source": [
    "# generate the CTR.\n",
    "\n",
    "def Generate_CTR(NC, NQ):\n",
    "    \"\"\" returns an NC by NQ array with probabilities\"\"\"\n",
    "    \n",
    "    return np.random.random((NC, NQ))"
   ]
  },
  {
   "cell_type": "code",
   "execution_count": 20,
   "metadata": {},
   "outputs": [
    {
     "data": {
      "text/plain": [
       "array([[0.54325216, 0.30126533, 0.40562573, 0.87845739, 0.26402799,\n",
       "        0.30509854, 0.09482833, 0.47048752],\n",
       "       [0.50754717, 0.88142103, 0.71709913, 0.74581785, 0.47558403,\n",
       "        0.94649355, 0.38602954, 0.90601337],\n",
       "       [0.93485283, 0.35387092, 0.59177327, 0.52608545, 0.52464672,\n",
       "        0.00645059, 0.88378089, 0.13427036],\n",
       "       [0.3701752 , 0.95330529, 0.7434753 , 0.92385016, 0.71959266,\n",
       "        0.63209925, 0.31174727, 0.44528791],\n",
       "       [0.79041448, 0.89046867, 0.7401891 , 0.54371791, 0.7421909 ,\n",
       "        0.359539  , 0.59464645, 0.93521934]])"
      ]
     },
     "execution_count": 20,
     "metadata": {},
     "output_type": "execute_result"
    }
   ],
   "source": [
    "Generate_CTR(NC, NQ)"
   ]
  },
  {
   "cell_type": "code",
   "execution_count": 21,
   "metadata": {},
   "outputs": [],
   "source": [
    "# get the APD\n",
    "\n",
    "def Get_APD(PPC, CTR):\n",
    "    \"\"\" multiplies PPC and CTR element wise\n",
    "    returns an array same size as PPC and CTR \"\"\"\n",
    "    \n",
    "    return np.multiply(PPC, CTR)"
   ]
  },
  {
   "cell_type": "markdown",
   "metadata": {},
   "source": [
    "# Generate Query Estimates\n",
    "\n",
    "Query estimates are the total number of queries users will request for a period of time or period of advertisement. The query estimates is an array the lenght of the queries "
   ]
  },
  {
   "cell_type": "code",
   "execution_count": 22,
   "metadata": {},
   "outputs": [],
   "source": [
    "# generate query estimates \n",
    "\n",
    "def Generate_QE(NQ, ER = (200, 500)):\n",
    "    \"\"\" ER: query estimate range\n",
    "    retuens a 1D array the lenth of NQ\"\"\"\n",
    "    \n",
    "    return np.random.randint(ER[0], ER[1], NC)"
   ]
  },
  {
   "cell_type": "code",
   "execution_count": 23,
   "metadata": {},
   "outputs": [
    {
     "data": {
      "text/plain": [
       "array([296, 389, 484, 389, 473])"
      ]
     },
     "execution_count": 23,
     "metadata": {},
     "output_type": "execute_result"
    }
   ],
   "source": [
    "Generate_QE(NQ)"
   ]
  },
  {
   "cell_type": "markdown",
   "metadata": {},
   "source": [
    "# An Example Data generation \n",
    "\n",
    "\n",
    "To generate data, the following procedure is followed \n",
    "1. Define NC and NQ\n",
    "2. Generate PPC, CB, QE\n",
    "3. Generate CTR\n",
    "4. Calculate APD from PPC and CTR"
   ]
  },
  {
   "cell_type": "code",
   "execution_count": 11,
   "metadata": {},
   "outputs": [],
   "source": [
    "\n",
    "NC, NQ = 5, 8\n",
    "\n",
    "CB, QE = Generate_CB(NC), Generate_QE(NQ) \n",
    "\n",
    "PPC = Generate_PPC(NC, NQ)\n",
    "\n",
    "CTR = Generate_CTR(NC, NQ)\n",
    "\n",
    "APD = Get_APD(PPC, CTR)\n"
   ]
  },
  {
   "cell_type": "code",
   "execution_count": 12,
   "metadata": {},
   "outputs": [
    {
     "data": {
      "text/plain": [
       "array([1566,  255, 1468, 1182, 1192])"
      ]
     },
     "execution_count": 12,
     "metadata": {},
     "output_type": "execute_result"
    }
   ],
   "source": [
    "CB"
   ]
  },
  {
   "cell_type": "code",
   "execution_count": 13,
   "metadata": {},
   "outputs": [
    {
     "data": {
      "text/plain": [
       "array([380, 290, 226, 302, 379])"
      ]
     },
     "execution_count": 13,
     "metadata": {},
     "output_type": "execute_result"
    }
   ],
   "source": [
    "QE"
   ]
  },
  {
   "cell_type": "code",
   "execution_count": 14,
   "metadata": {},
   "outputs": [
    {
     "data": {
      "text/plain": [
       "array([[15, 12, 16,  7,  6,  2,  2, 13],\n",
       "       [13, 10,  7, 17, 13,  4,  2, 11],\n",
       "       [19, 13, 17, 11,  5, 11,  6, 10],\n",
       "       [ 9,  3,  6, 18, 17, 14,  4, 14],\n",
       "       [14,  1,  1,  8, 16,  9,  2, 14]])"
      ]
     },
     "execution_count": 14,
     "metadata": {},
     "output_type": "execute_result"
    }
   ],
   "source": [
    "PPC"
   ]
  },
  {
   "cell_type": "code",
   "execution_count": 15,
   "metadata": {},
   "outputs": [
    {
     "data": {
      "text/plain": [
       "array([[0.65211812, 0.05783347, 0.57972956, 0.84765235, 0.85649763,\n",
       "        0.20432095, 0.1987608 , 0.8933966 ],\n",
       "       [0.60272904, 0.00294913, 0.32264908, 0.57080743, 0.79701698,\n",
       "        0.66047911, 0.46176423, 0.28961006],\n",
       "       [0.29031473, 0.82580957, 0.03244858, 0.81160736, 0.59417325,\n",
       "        0.70330846, 0.33506832, 0.69260504],\n",
       "       [0.06380665, 0.61726793, 0.07201708, 0.20972453, 0.06177231,\n",
       "        0.91162626, 0.1362017 , 0.96274972],\n",
       "       [0.07100261, 0.76968084, 0.44171631, 0.41531391, 0.46621272,\n",
       "        0.41244427, 0.27445686, 0.65211033]])"
      ]
     },
     "execution_count": 15,
     "metadata": {},
     "output_type": "execute_result"
    }
   ],
   "source": [
    "CTR"
   ]
  },
  {
   "cell_type": "code",
   "execution_count": 16,
   "metadata": {},
   "outputs": [
    {
     "data": {
      "text/plain": [
       "array([[ 9.78177183,  0.69400168,  9.27567303,  5.93356646,  5.13898577,\n",
       "         0.40864189,  0.39752159, 11.61415574],\n",
       "       [ 7.83547746,  0.02949129,  2.25854355,  9.70372638, 10.36122077,\n",
       "         2.64191644,  0.92352846,  3.18571066],\n",
       "       [ 5.51597991, 10.73552446,  0.5516258 ,  8.92768092,  2.97086623,\n",
       "         7.73639307,  2.01040995,  6.92605035],\n",
       "       [ 0.57425981,  1.85180378,  0.43210247,  3.77504146,  1.05012928,\n",
       "        12.76276768,  0.5448068 , 13.4784961 ],\n",
       "       [ 0.99403647,  0.76968084,  0.44171631,  3.32251127,  7.4594035 ,\n",
       "         3.71199841,  0.54891371,  9.12954463]])"
      ]
     },
     "execution_count": 16,
     "metadata": {},
     "output_type": "execute_result"
    }
   ],
   "source": [
    "APD"
   ]
  },
  {
   "cell_type": "code",
   "execution_count": null,
   "metadata": {},
   "outputs": [],
   "source": []
  }
 ],
 "metadata": {
  "kernelspec": {
   "display_name": "Python [default]",
   "language": "python",
   "name": "python3"
  },
  "language_info": {
   "codemirror_mode": {
    "name": "ipython",
    "version": 3
   },
   "file_extension": ".py",
   "mimetype": "text/x-python",
   "name": "python",
   "nbconvert_exporter": "python",
   "pygments_lexer": "ipython3",
   "version": "3.5.6"
  }
 },
 "nbformat": 4,
 "nbformat_minor": 2
}
