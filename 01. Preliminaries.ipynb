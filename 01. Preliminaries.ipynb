{
 "cells": [
  {
   "cell_type": "markdown",
   "metadata": {},
   "source": [
    "# Outlining the Problem\n",
    "\n",
    "Here we will assume we have companies $C1, C2, C3$ \n",
    "\n",
    "and the Queries available for bidding are $Q1, Q2, Q3$"
   ]
  },
  {
   "cell_type": "markdown",
   "metadata": {},
   "source": [
    "# **Price Per Click (PPC)**\n",
    "\n",
    "1. Company Query bids i.e prices they offer to pay for each click of a query \n",
    "\n",
    "C1 offers 15 dollars for Q1\n",
    "\n",
    "C1 offers 10 dollars for Q2\n",
    "\n",
    "C1 offers 5 dollars for Q3\n",
    "\n",
    "C2 offers 15 dollars for Q1 ...etc\n",
    "\n",
    "The query bids for each company company and query can be displayed in a matrix as follows\n",
    "\n",
    "C1 = [5, 5, 20]\n",
    "C2 = [10, 5, 20]\n",
    "C3 = [5, 20, 25]\n",
    "\n",
    "e.g C1[0] is PPC for Q1 and by C1 \n",
    "C2[2] is PPC for Q3 by C2 \n",
    "\n",
    "it can be clearly displayed as a matrix as follows with rows as companies C and columns as queries Q. The number of rows depends on the number on companies and the number of columns on the number of queries available for bidding.\n",
    "\n",
    "[5, 5, 20]\n",
    "\n",
    "[10, 5, 20]\n",
    "\n",
    "[5, 20, 25]"
   ]
  },
  {
   "cell_type": "code",
   "execution_count": 2,
   "metadata": {},
   "outputs": [
    {
     "data": {
      "text/plain": [
       "[[5, 5, 20], [10, 5, 20], [5, 20, 25]]"
      ]
     },
     "execution_count": 2,
     "metadata": {},
     "output_type": "execute_result"
    }
   ],
   "source": [
    "# Price per click matrix\n",
    "\n",
    "PPC = [[5, 5, 20],\n",
    "       [10, 5, 20],\n",
    "       [5, 20, 25]]\n",
    "\n",
    "PPC"
   ]
  },
  {
   "cell_type": "markdown",
   "metadata": {},
   "source": [
    "# 2. Company Budget (CB)\n",
    "\n",
    "Each company gives a budget for advertising which will be used up as adds are clicked. The budget of each company can be represented as a vector. the vectors size is same as the number of rows in the PPC matrix and the first element in the vector correspond to the first company in row 1 of the PPC matrix. An Example vector is as follows \n",
    "\n",
    "Budget = [170, 100, 160]"
   ]
  },
  {
   "cell_type": "code",
   "execution_count": 3,
   "metadata": {},
   "outputs": [],
   "source": [
    "CB = [170, 100, 160]"
   ]
  },
  {
   "cell_type": "markdown",
   "metadata": {},
   "source": [
    "# 3. Click Through Rate (**CTR**)\n",
    "\n",
    "This is the probability that a user clicks on an advertisers add or average clicks per user. How often do users click on an add. this is different for each company and each query or in other words each add has a different **CTR**. The CTR can be estimated and defined as a matrix for each company and query. the form of the matrix is same as that of **PPC** just this time we have a **CTR**. An example matrix is as follows\n",
    "\n",
    "[0.10, 0.10, 0.08]\n",
    "\n",
    "[0.10, 0.15, 0.10]\n",
    "\n",
    "[0.10, 0.20, 0.20]\n",
    "\n",
    "This means for example that there is a 15% chance for a user searching for $Q2$ to click on the add of $C2$. "
   ]
  },
  {
   "cell_type": "code",
   "execution_count": 4,
   "metadata": {},
   "outputs": [],
   "source": [
    "CTR = [[0.10, 0.10, 0.08],\n",
    "       [0.10, 0.15, 0.10],\n",
    "       [0.10, 0.20, 0.20]]"
   ]
  },
  {
   "cell_type": "markdown",
   "metadata": {},
   "source": [
    "# 4. Average Price Per Display (PPD)\n",
    "\n",
    "This is the average amount an advertiser pays for an add display. It is calculated by multiplying the PPC by CTR. So for each company and query we multiply their PPC and CTR e.g for C1 and Q1, the PPD will be $5*0.10$"
   ]
  },
  {
   "cell_type": "code",
   "execution_count": 5,
   "metadata": {},
   "outputs": [
    {
     "data": {
      "text/plain": [
       "array([[0.5 , 0.5 , 1.6 ],\n",
       "       [1.  , 0.75, 2.  ],\n",
       "       [0.5 , 4.  , 5.  ]])"
      ]
     },
     "execution_count": 5,
     "metadata": {},
     "output_type": "execute_result"
    }
   ],
   "source": [
    "import numpy as np\n",
    "\n",
    "CTR = np.array(CTR)\n",
    "PPC = np.array(PPC)\n",
    "\n",
    "PPD = np.multiply(PPC, CTR)\n",
    "\n",
    "PPD"
   ]
  },
  {
   "cell_type": "markdown",
   "metadata": {},
   "source": [
    "# 5. Query Estimates (QE)\n",
    "\n",
    "The company can determine how popular the queries are or the number of times each query can be searched over a given period (day, week or month). Our query estimates for each query can be displayed as a vector in the order Q1, Q2 and Q3 as follows\n",
    "\n",
    "QE = [140, 80, 80]"
   ]
  },
  {
   "cell_type": "code",
   "execution_count": 6,
   "metadata": {},
   "outputs": [],
   "source": [
    "QE = [140, 80, 80]"
   ]
  },
  {
   "cell_type": "markdown",
   "metadata": {},
   "source": [
    "# Problems Statement\n",
    "\n",
    "How many times should each add be displayed for each query to maximize revenue.\n",
    "\n",
    "1. Objective: Maximize revenue\n",
    "\n",
    "2. Decision: For each company and query, number of times add will be displayed for that query.\n",
    "\n",
    "3. Constraints: Average amount paid by each advertiser cannot exceed budget and total adds for given query cannot exceed estimated number of requests for that query.\n",
    "\n",
    "\n",
    "What we need for our problem are\n",
    "1. The Company Budget (CB)\n",
    "2. The PPD\n",
    "3. QE\n"
   ]
  },
  {
   "cell_type": "markdown",
   "metadata": {},
   "source": [
    "# 1. Decision Variables (DV)\n",
    "\n",
    "Each company and query e.g $X_{C1, Q1}$ = number of displays of times Company 1 adds are displayed for Query 1. This will leave us with  a total of variables equal to number of companies times number of queries. this can be represented in a matrix similar to the proce per click matrix. the matrix is initialized with zeros as there is no display at beginning.\n",
    "\n",
    "[0,0,0]\n",
    "\n",
    "[0,0,0]\n",
    "\n",
    "[0,0,0]"
   ]
  },
  {
   "cell_type": "code",
   "execution_count": 7,
   "metadata": {},
   "outputs": [
    {
     "data": {
      "text/plain": [
       "array([[1, 1, 1],\n",
       "       [1, 1, 1],\n",
       "       [1, 1, 1]])"
      ]
     },
     "execution_count": 7,
     "metadata": {},
     "output_type": "execute_result"
    }
   ],
   "source": [
    "# variables for company and queries. rows must be equal to number of companies and column number of queries\n",
    "\n",
    "DV = np.ones((len(CB),len(QE)), int)\n",
    "\n",
    "DV"
   ]
  },
  {
   "cell_type": "markdown",
   "metadata": {},
   "source": [
    "# 2. Revenue Under Strategy (Rev)\n",
    "\n",
    "The number of add displays for a company and Query multiplied by its CTR. Sum up for all companies and queries. This is equivalent to multiplying PPD by DV and summing them all up\n"
   ]
  },
  {
   "cell_type": "code",
   "execution_count": 8,
   "metadata": {},
   "outputs": [
    {
     "name": "stdout",
     "output_type": "stream",
     "text": [
      "15.85\n",
      "[2.   5.25 8.6 ]\n",
      "15.85\n"
     ]
    },
    {
     "data": {
      "text/plain": [
       "15.85"
      ]
     },
     "execution_count": 8,
     "metadata": {},
     "output_type": "execute_result"
    }
   ],
   "source": [
    "print(sum (sum(np.multiply(PPD, DV))))\n",
    "print(sum(np.multiply(PPD, DV)))\n",
    "\n",
    "print( np.sum( np.multiply(PPD, DV)) )\n",
    "\n",
    "Rev = sum (sum(np.multiply(PPD, DV)))\n",
    "\n",
    "Rev"
   ]
  },
  {
   "cell_type": "markdown",
   "metadata": {},
   "source": [
    "# Amount Company Pays (Constraints 1)\n",
    "\n",
    "Each company total budget from number of add. Multiply all the company variables by PPD and sum them up. e.g for company 1 multiply row 1 of PPD with row 1 of DV. And this value should be less than company budget \n",
    "\n",
    "$DV[i]*PPD[i] \\leq CB[i]$"
   ]
  },
  {
   "cell_type": "code",
   "execution_count": 9,
   "metadata": {},
   "outputs": [
    {
     "name": "stdout",
     "output_type": "stream",
     "text": [
      "[1 1 1] [0.5 0.5 1.6] 170 0\n",
      "[1 1 1] [1.   0.75 2.  ] 100 1\n",
      "[1 1 1] [0.5 4.  5. ] 160 2\n"
     ]
    }
   ],
   "source": [
    "for i in range(len(CB)):\n",
    "    print(DV[i], PPD[i], CB[i], i)"
   ]
  },
  {
   "cell_type": "code",
   "execution_count": 10,
   "metadata": {},
   "outputs": [
    {
     "data": {
      "text/plain": [
       "array([[0.5 , 0.5 , 1.6 ],\n",
       "       [1.  , 0.75, 2.  ],\n",
       "       [0.5 , 4.  , 5.  ]])"
      ]
     },
     "execution_count": 10,
     "metadata": {},
     "output_type": "execute_result"
    }
   ],
   "source": [
    "# budget constraints\n",
    "\n",
    "Amounts = np.multiply(PPD, DV)\n",
    "Amounts"
   ]
  },
  {
   "cell_type": "code",
   "execution_count": 11,
   "metadata": {},
   "outputs": [
    {
     "data": {
      "text/plain": [
       "(array([2.6 , 3.75, 9.5 ]), [170, 100, 160])"
      ]
     },
     "execution_count": 11,
     "metadata": {},
     "output_type": "execute_result"
    }
   ],
   "source": [
    "np.sum(Amounts, axis=1), CB"
   ]
  },
  {
   "cell_type": "code",
   "execution_count": 12,
   "metadata": {},
   "outputs": [
    {
     "data": {
      "text/plain": [
       "array([ True,  True,  True])"
      ]
     },
     "execution_count": 12,
     "metadata": {},
     "output_type": "execute_result"
    }
   ],
   "source": [
    "np.sum(Amounts, axis=1) < CB"
   ]
  },
  {
   "cell_type": "markdown",
   "metadata": {},
   "source": [
    "# Number of Queries (Constraints 2) \n",
    "\n",
    "This shouldnt exit the total number of queries for each query estimate"
   ]
  },
  {
   "cell_type": "code",
   "execution_count": 13,
   "metadata": {},
   "outputs": [
    {
     "data": {
      "text/plain": [
       "array([3, 3, 3])"
      ]
     },
     "execution_count": 13,
     "metadata": {},
     "output_type": "execute_result"
    }
   ],
   "source": [
    "NQ = np.sum(DV, axis=0)\n",
    "\n",
    "NQ"
   ]
  },
  {
   "cell_type": "code",
   "execution_count": 14,
   "metadata": {},
   "outputs": [
    {
     "data": {
      "text/plain": [
       "array([ True,  True,  True])"
      ]
     },
     "execution_count": 14,
     "metadata": {},
     "output_type": "execute_result"
    }
   ],
   "source": [
    "NQ < QE"
   ]
  },
  {
   "cell_type": "code",
   "execution_count": null,
   "metadata": {},
   "outputs": [],
   "source": []
  },
  {
   "cell_type": "markdown",
   "metadata": {},
   "source": [
    "# Modelling as an Optimization Problem\n",
    "\n",
    "We need to flatten the DV matrix but making sure its in order\n",
    "\n",
    "1. The Objective Function\n",
    "2. The Constraints"
   ]
  },
  {
   "cell_type": "markdown",
   "metadata": {},
   "source": [
    "# 1. The Objective Function"
   ]
  },
  {
   "cell_type": "code",
   "execution_count": 17,
   "metadata": {},
   "outputs": [],
   "source": [
    "# Calculate fitness\n",
    "\n",
    "def F(DV, PPD):\n",
    "    \"\"\"DV: is decision varaible matrix\n",
    "      PPD: is price per display\"\"\"\n",
    "    \n",
    "    return np.sum(np.multiply(PPD, DV))\n",
    "\n",
    "\n",
    "def C(DV, PPD, CB, QE):\n",
    "    \"\"\" CB: budget\"\"\"\n",
    "    cs = np.multiply(PPD, DV)\n",
    "    cs = np.sum(cs, axis=1)\n",
    "    \n",
    "    c1 = cs[0] - CB[0]\n",
    "    c2 = cs[1] - CB[1]\n",
    "    c3 = cs[2] - CB[2]\n",
    "    \n",
    "    \n",
    "    "
   ]
  },
  {
   "cell_type": "code",
   "execution_count": 22,
   "metadata": {},
   "outputs": [
    {
     "name": "stdout",
     "output_type": "stream",
     "text": [
      "[[0.33801092 0.16523569 0.42410387]\n",
      " [0.17287994 0.20192786 0.53731345]]\n"
     ]
    },
    {
     "data": {
      "text/plain": [
       "array([0.33801092, 0.16523569, 0.42410387, 0.17287994, 0.20192786,\n",
       "       0.53731345])"
      ]
     },
     "execution_count": 22,
     "metadata": {},
     "output_type": "execute_result"
    }
   ],
   "source": [
    "a= np.random.random((2,3))\n",
    "\n",
    "print(a)\n",
    "\n",
    "a.flatten()"
   ]
  },
  {
   "cell_type": "code",
   "execution_count": 25,
   "metadata": {},
   "outputs": [
    {
     "name": "stdout",
     "output_type": "stream",
     "text": [
      "[0.33801092 0.16523569 0.42410387 0.17287994 0.20192786 0.53731345]\n"
     ]
    },
    {
     "data": {
      "text/plain": [
       "array([[0.33801092, 0.16523569, 0.42410387],\n",
       "       [0.17287994, 0.20192786, 0.53731345]])"
      ]
     },
     "execution_count": 25,
     "metadata": {},
     "output_type": "execute_result"
    }
   ],
   "source": [
    "b = a.flatten()\n",
    "\n",
    "print(b)\n",
    "\n",
    "b.resize(2,3)\n",
    "b"
   ]
  },
  {
   "cell_type": "code",
   "execution_count": 26,
   "metadata": {},
   "outputs": [
    {
     "data": {
      "text/plain": [
       "array([[0.33801092, 0.16523569, 0.42410387],\n",
       "       [0.17287994, 0.20192786, 0.53731345]])"
      ]
     },
     "execution_count": 26,
     "metadata": {},
     "output_type": "execute_result"
    }
   ],
   "source": [
    "b"
   ]
  },
  {
   "cell_type": "code",
   "execution_count": 28,
   "metadata": {},
   "outputs": [
    {
     "data": {
      "text/plain": [
       "array([0.51089086, 0.36716355, 0.96141732])"
      ]
     },
     "execution_count": 28,
     "metadata": {},
     "output_type": "execute_result"
    }
   ],
   "source": [
    "b.sum(axis=0)"
   ]
  },
  {
   "cell_type": "code",
   "execution_count": 29,
   "metadata": {},
   "outputs": [
    {
     "data": {
      "text/plain": [
       "array([[0.33801092, 0.16523569, 0.42410387],\n",
       "       [0.17287994, 0.20192786, 0.53731345]])"
      ]
     },
     "execution_count": 29,
     "metadata": {},
     "output_type": "execute_result"
    }
   ],
   "source": [
    "b"
   ]
  },
  {
   "cell_type": "code",
   "execution_count": null,
   "metadata": {},
   "outputs": [],
   "source": []
  }
 ],
 "metadata": {
  "kernelspec": {
   "display_name": "Python [default]",
   "language": "python",
   "name": "python3"
  },
  "language_info": {
   "codemirror_mode": {
    "name": "ipython",
    "version": 3
   },
   "file_extension": ".py",
   "mimetype": "text/x-python",
   "name": "python",
   "nbconvert_exporter": "python",
   "pygments_lexer": "ipython3",
   "version": "3.5.6"
  }
 },
 "nbformat": 4,
 "nbformat_minor": 2
}
