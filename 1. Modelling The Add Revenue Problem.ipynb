{
 "cells": [
  {
   "cell_type": "markdown",
   "metadata": {},
   "source": [
    "# Modelling The problem for Optimization \n",
    "\n",
    "To perform optimization, we need to define our optimization function and constraints. The Goal here is to optimize the revenue of the company offering adds under given constraints. To do so, we need to define our decision variables.\n",
    "\n",
    "# Problems Statement\n",
    "\n",
    "How many times should each add be displayed for each query to maximize revenue.\n",
    "\n",
    "1. Objective: Maximize revenue (**Total Revenue**)\n",
    "\n",
    "2. Decision: For each company and query, number of times add will be displayed for that query. (**Decision Varaibles DV**)\n",
    "\n",
    "3. Constraints: Average amount paid by each advertiser cannot exceed budget (**Budget Constraints BC**) and total adds for given query cannot exceed estimated number of requests for that query (**Query Constraints QC**).\n",
    "\n",
    "What we need for our problem modelling are\n",
    "1. The Company Budget (CB)\n",
    "2. The PPD\n",
    "3. QE\n"
   ]
  },
  {
   "cell_type": "markdown",
   "metadata": {},
   "source": [
    "# 1. Decision Variables \n",
    "\n",
    "Each company and query e.g $X_{C1, Q1}$ = number of displays of times Company 1 adds are displayed for Query 1. This will leave us with  a total of variables equal to number of companies times number of queries. this can be represented in a matrix similar to the proce per click matrix. the matrix is initialized with zeros as there is no display at beginning. The decision variables are NC X NQ. in the Matrix NC[1] NQ[3] is the number of times company 1s add is displayed for query 3 etc. \n",
    "\n",
    "First we need to genrate out decision variables with respect to NC and NQ"
   ]
  },
  {
   "cell_type": "code",
   "execution_count": 1,
   "metadata": {},
   "outputs": [],
   "source": [
    "# Define Decision Variables DV\n",
    "import numpy as np\n",
    "\n",
    "NC, NQ = 4, 6\n",
    "\n",
    "def Generate_DV(NC, NQ):\n",
    "    \"\"\" return an NC by NQ array with all zeros.\n",
    "    Zeros becuase no adds are displayed initially\"\"\"\n",
    "    \n",
    "    return np.zeros((NC, NQ), int)"
   ]
  },
  {
   "cell_type": "code",
   "execution_count": 2,
   "metadata": {},
   "outputs": [
    {
     "data": {
      "text/plain": [
       "array([[0, 0, 0, 0, 0, 0],\n",
       "       [0, 0, 0, 0, 0, 0],\n",
       "       [0, 0, 0, 0, 0, 0],\n",
       "       [0, 0, 0, 0, 0, 0]])"
      ]
     },
     "execution_count": 2,
     "metadata": {},
     "output_type": "execute_result"
    }
   ],
   "source": [
    "DV = Generate_DV(NC, NQ)\n",
    "\n",
    "DV"
   ]
  },
  {
   "cell_type": "markdown",
   "metadata": {},
   "source": [
    "# 2. Total Revenue\n",
    "\n",
    "If we know the number of times a companies add has been displayed for a given query, we know how much it has paid to the company. To calculate the revenue generated we multiply the number of queries for each company and query with the corresponding price per display i.e element wise multiplication of DV and PPD. Multiplyiny we get the amount paid for each add by each company and summing them up we get the total revenue generated. "
   ]
  },
  {
   "cell_type": "code",
   "execution_count": 3,
   "metadata": {},
   "outputs": [],
   "source": [
    "# Calculate total revenue\n",
    "\n",
    "def Total_Revenue(DV, PPD):\n",
    "    \"\"\" returns the total amount paid to add company\"\"\"\n",
    "    \n",
    "    return np.sum(np.multiply(DV, PPD))"
   ]
  },
  {
   "cell_type": "code",
   "execution_count": 4,
   "metadata": {},
   "outputs": [
    {
     "data": {
      "text/plain": [
       "0.0"
      ]
     },
     "execution_count": 4,
     "metadata": {},
     "output_type": "execute_result"
    }
   ],
   "source": [
    "DV = Generate_DV(NC, NQ)\n",
    "PPD = np.random.random(DV.shape)\n",
    "\n",
    "Total_Revenue(DV, PPD)"
   ]
  },
  {
   "cell_type": "markdown",
   "metadata": {},
   "source": [
    "# 3. Budget Constraints \n",
    "\n",
    "Each company's total budget from number of add displayed cannot exceed the total budget of the company. So here the total budget each company uses is equivalent to the total number of adds displayed multiplied by the PPD for that company which is like summing the rows of a matrix after multiplying the PPD and DV element wise. This is because each row corresponds to one company.\n",
    "After summing the rows we compare with the corresponding company budget to make sure it hasnt exceeded its budget."
   ]
  },
  {
   "cell_type": "code",
   "execution_count": 5,
   "metadata": {},
   "outputs": [],
   "source": [
    "# get budget constraints \n",
    "\n",
    "def used_budget(PPD, DV):\n",
    "    \"\"\" Returns a list of budget spent and company budget\"\"\"\n",
    "    \n",
    "    return np.sum( np.multiply(PPD, DV), axis=1)"
   ]
  },
  {
   "cell_type": "code",
   "execution_count": 6,
   "metadata": {},
   "outputs": [
    {
     "data": {
      "text/plain": [
       "array([0., 0., 0., 0.])"
      ]
     },
     "execution_count": 6,
     "metadata": {},
     "output_type": "execute_result"
    }
   ],
   "source": [
    "used_budget(PPD, DV)"
   ]
  },
  {
   "cell_type": "markdown",
   "metadata": {},
   "source": [
    "# 3. Query Constraints \n",
    "\n",
    "For an add, the total number of displays cannot exceed the estimate. So here the total number of query displays for each Query is sumed and made sure it doesnt exceed the estimate. This can be done by simply summing the columns of DV and comparing them with QE. This is because each column corresponds to one query. After summing the rows we compare with the corresponding QE to make sure it hasnt exceeded its budget."
   ]
  },
  {
   "cell_type": "code",
   "execution_count": 7,
   "metadata": {},
   "outputs": [],
   "source": [
    "def used_queries(DV):\n",
    "    \"\"\" Returns a list of budget spent and company budget\"\"\"\n",
    "    \n",
    "    return np.sum(DV, axis = 1)"
   ]
  },
  {
   "cell_type": "code",
   "execution_count": 8,
   "metadata": {},
   "outputs": [
    {
     "data": {
      "text/plain": [
       "[0, 0, 0, 0]"
      ]
     },
     "execution_count": 8,
     "metadata": {},
     "output_type": "execute_result"
    }
   ],
   "source": [
    "list(used_queries(DV))"
   ]
  },
  {
   "cell_type": "code",
   "execution_count": 9,
   "metadata": {},
   "outputs": [],
   "source": [
    "def optimization_function(decision_variables, price_per_display, company_budgets, query_estimates):\n",
    "    # compute budget and queries for each company\n",
    "    used_budget = np.sum( np.multiply(price_per_display, decision_variables), axis=1)\n",
    "    used_queries = np.sum(decision_variables, axis = 1)\n",
    "    \n",
    "    voilated_budget_cost = 0\n",
    "    voilated_query_cost = 0\n",
    "    voilated_constraints = 0\n",
    "    \n",
    "    # budget constraints verification\n",
    "    for i in len(used_budget):\n",
    "        if used_budget[i] > CB[i]:\n",
    "            voilated_constraints += 1\n",
    "            voilated_budget_cost += used_budget[i]\n",
    "            \n",
    "    # query constraints verification\n",
    "    for i in len(used_queries):\n",
    "        if used_queries[i] > QE[i]:\n",
    "            voilated_constraints += 1\n",
    "            voilated_query_cost += used_queries[i]\n",
    "    \n",
    "    # fitness (total revenue)\n",
    "    if voilated_constraints > 0:\n",
    "        fitness = np.sum(np.multiply(decision_variables, price_per_display))\n",
    "    else:\n",
    "        fitness = np.sum(np.multiply(decision_variables, price_per_display))\n",
    "        \n",
    "    return {\"fitness\": fitness, \"voilated_constraints\": voilated_constraints}\n",
    "            "
   ]
  },
  {
   "cell_type": "code",
   "execution_count": 10,
   "metadata": {},
   "outputs": [
    {
     "ename": "NameError",
     "evalue": "name 'CB' is not defined",
     "output_type": "error",
     "traceback": [
      "\u001b[1;31m---------------------------------------------------------------------------\u001b[0m",
      "\u001b[1;31mNameError\u001b[0m                                 Traceback (most recent call last)",
      "\u001b[1;32m<ipython-input-10-ca25ad5358ec>\u001b[0m in \u001b[0;36m<module>\u001b[1;34m()\u001b[0m\n\u001b[1;32m----> 1\u001b[1;33m \u001b[0moptimization_function\u001b[0m\u001b[1;33m(\u001b[0m\u001b[0mDV\u001b[0m\u001b[1;33m,\u001b[0m\u001b[0mPPD\u001b[0m\u001b[1;33m,\u001b[0m\u001b[0mCB\u001b[0m\u001b[1;33m,\u001b[0m\u001b[0mQE\u001b[0m\u001b[1;33m)\u001b[0m\u001b[1;33m\u001b[0m\u001b[0m\n\u001b[0m",
      "\u001b[1;31mNameError\u001b[0m: name 'CB' is not defined"
     ]
    }
   ],
   "source": [
    "optimization_function(DV,PPD,CB,QE)"
   ]
  },
  {
   "cell_type": "code",
   "execution_count": null,
   "metadata": {},
   "outputs": [],
   "source": []
  }
 ],
 "metadata": {
  "kernelspec": {
   "display_name": "Python [default]",
   "language": "python",
   "name": "python3"
  },
  "language_info": {
   "codemirror_mode": {
    "name": "ipython",
    "version": 3
   },
   "file_extension": ".py",
   "mimetype": "text/x-python",
   "name": "python",
   "nbconvert_exporter": "python",
   "pygments_lexer": "ipython3",
   "version": "3.5.6"
  }
 },
 "nbformat": 4,
 "nbformat_minor": 2
}
