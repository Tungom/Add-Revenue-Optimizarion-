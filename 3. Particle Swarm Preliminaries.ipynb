{
 "cells": [
  {
   "cell_type": "code",
   "execution_count": 1,
   "metadata": {},
   "outputs": [],
   "source": [
    "#!/usr/bin/env python\n",
    "# ------------------------------------------------------------------------------------------------------%\n",
    "# Created by \"Chia E Tungom\" 09/12/2020                                                                 %\n",
    "#       Email:      chemago99@yahoo.com                                                                 %\n",
    "#       Github:     https://github.com/tungom                                                           %\n",
    "#-------------------------------------------------------------------------------------------------------%"
   ]
  },
  {
   "cell_type": "code",
   "execution_count": 2,
   "metadata": {},
   "outputs": [],
   "source": [
    "import random\n",
    "import math\n",
    "import numpy as np"
   ]
  },
  {
   "cell_type": "code",
   "execution_count": 3,
   "metadata": {},
   "outputs": [
    {
     "data": {
      "text/plain": [
       "array([15.47464427, 18.38618011, 15.07985129])"
      ]
     },
     "execution_count": 3,
     "metadata": {},
     "output_type": "execute_result"
    }
   ],
   "source": [
    "#Define number of Companies and Queries NC and NQ respectively\n",
    "\n",
    "NC, NQ = 3, 7\n",
    "\n",
    "QE = np.random.uniform(15, 20, NC)\n",
    "\n",
    "QE"
   ]
  },
  {
   "cell_type": "code",
   "execution_count": 4,
   "metadata": {},
   "outputs": [],
   "source": [
    "# Initializing position and Velocity\n",
    "\n",
    "bounds = [] # maximum number of adds for a for a company\n",
    "\n",
    "def InitializeX(N, NC, NQ, BDS):\n",
    "    \"\"\" N: population size (interger number)\n",
    "        NC: Number of Companies\n",
    "        NQ: Number of Queries\n",
    "        BDS: bounds (list with tuples e.g [(a,b),...,(c,d)]). List must be same length with D\"\"\"\n",
    "\n",
    "    return np.array([[np.random.uniform(0, BDS[i], NQ) for i in range(NC)] for j in range(N)])\n",
    "\n",
    "def InitializeV(N, NC, NQ, BDS):\n",
    "    \"\"\" N: population size (interger number)\n",
    "        NC: Number of Companies\n",
    "        NQ: Number of Queries\n",
    "        BDS: bounds (list with tuples e.g [(a,b),...,(c,d)]). List must be same length with D\"\"\"\n",
    "\n",
    "    return np.array([[np.random.uniform(0, BDS[i], NQ) for i in range(NC)] for j in range(N)])"
   ]
  },
  {
   "cell_type": "code",
   "execution_count": 5,
   "metadata": {},
   "outputs": [
    {
     "data": {
      "text/plain": [
       "array([15.3347798 ,  4.68609502,  7.30450448, 11.26280345, 13.84345264,\n",
       "        2.90302111,  2.26810684,  5.97868821,  0.30165423,  0.15115803,\n",
       "       13.30415378, 12.1234316 , 11.76787015, 11.96468213, 13.37434886,\n",
       "        7.41872183, 11.13708374, 10.15838408,  9.93812785,  1.15681595,\n",
       "        2.79539154])"
      ]
     },
     "execution_count": 5,
     "metadata": {},
     "output_type": "execute_result"
    }
   ],
   "source": [
    "InitializeX(4, NC, NQ, QE)[0].flatten()"
   ]
  },
  {
   "cell_type": "code",
   "execution_count": 6,
   "metadata": {},
   "outputs": [],
   "source": [
    "# Define Fitness Function\n",
    "\n",
    "def Revenue(DV, PPD):\n",
    "    \"\"\"DV: is decision varaible matrix\n",
    "      PPD: is price per display\"\"\"\n",
    "    \n",
    "    return np.sum(np.multiply(PPD, DV))\n",
    "\n",
    "\n",
    "\n",
    "def C(BC, QC):\n",
    "    \"\"\" CB: budget\"\"\"\n",
    "    \n",
    "    nb, nq = 0, 0\n",
    "    \n",
    "    for i in range(len(BC[0])):\n",
    "        if BC[0][i] - BC[1][i] > 0:\n",
    "            nb += 1\n",
    "            \n",
    "    for i in range(len(QC[0])):\n",
    "        if QC[0][i] - QC[1][i] > 0:\n",
    "            nq += 1\n",
    "            \n",
    "    if nb + nq > 0:\n",
    "        # F = sum([i/50 for i in cs])   # voilated fitness calculation\n",
    "        F = - abs(Revenue(DV, PPD)*(1+nv)) # negative abs for maximization\n",
    "    else:\n",
    "        F = F(DV, PPD)\n",
    "    return F, nb + nq"
   ]
  },
  {
   "cell_type": "code",
   "execution_count": 7,
   "metadata": {},
   "outputs": [],
   "source": [
    "def PGbest(function, nc, x, pbest, gbest):\n",
    "    \n",
    "    \"\"\" function: function to be optimized\n",
    "        nc: number of constraints\n",
    "        x: current position of swarm members\n",
    "        pbest: list of personal best positions [([position],(fitness, voilations)), ..., ([position],(fitness, voilations)) ]\n",
    "        gbest: position of best individual \"\"\"\n",
    "    x = x.flatten()\n",
    "    fx = [(i, function(i, nc)) for i in x]           #gives the position and fitness value [(position, (fitness, voilations) )]\n",
    "    Fis = 0  # flag for feasible solution\n",
    "    \n",
    "    for i in range(len(x)):\n",
    "        \n",
    "        if fx[i][1][1] == 0 and pbest[i][1][1] == 0:    # compare feasible solutions\n",
    "            Fis += 1\n",
    "            \n",
    "            if fx[i][1][0] < pbest[i][1][0]:\n",
    "                pbest[i] = fx[i]\n",
    "                \n",
    "            if pbest[i][1][0] < gbest[1][0]:\n",
    "                gbest = pbest[i]\n",
    "                \n",
    "        elif fx[i][1][1] == 0 and pbest[i][1][1] > 0:  # replace pbest if infeasible with new feasible solution\n",
    "            pbest[i] = fx[i]\n",
    "            \n",
    "            if Fis == 0 and pbest[i][1][0] < gbest[1][0]:\n",
    "                gbest = pbest[i]\n",
    "                \n",
    "        elif fx[i][1][1] > 0 and pbest[i][1][1] > 0: # compare two infeasible solutions \n",
    "            if fx[i][1][0] < pbest[i][1][0]:\n",
    "                pbest[i] = fx[i]\n",
    "                \n",
    "            if Fis == 0 and pbest[i][1][0] < gbest[1][0]:\n",
    "                gbest = pbest[i]\n",
    "    \n",
    "    return pbest, gbest\n",
    "    "
   ]
  },
  {
   "cell_type": "code",
   "execution_count": 8,
   "metadata": {},
   "outputs": [],
   "source": [
    "def updateV(vel, x, pbest, gbest, probT, w, c1, c2):\n",
    "    \n",
    "    \"\"\"vel: A list of list with velocities of particles [[velocity],...,[velocity]] \n",
    "       x: current position of swarm members\n",
    "       pbest: list of personal best positions [([position],(fitness, voilations)), ..., ([position],(fitness, voilations)) ]\n",
    "       gbest: position of best individual \n",
    "       probT: turbulance probability\n",
    "       w: inertia weight in the range [0.3, 0.9]\n",
    "       c1 and c2: acceleration coefficients in the range [0, 4.0]\"\"\"\n",
    "    \n",
    "    v = []\n",
    "    \n",
    "    for i in range(len(x)):\n",
    "        v.append([])\n",
    "        tt = 0\n",
    "        for j in range(len(x[0])):\n",
    "            r1 = random.random()\n",
    "            r2 = random.random()\n",
    "            \n",
    "            # Turbulance\n",
    "            if probT > random.random():\n",
    "                tt +=1\n",
    "                v[i].append( round ( (random.uniform(0.1, 0.3)*vel[i][j]) + \n",
    "                            (random.uniform(1.5, 2.5) * r1*(pbest[i][0][j] - x[i][j])) + \n",
    "                            (random.uniform(1.5, 2.5)* r2* (gbest[0][j] - x[i][j]))  + random.uniform(0,1) ) )\n",
    "            else:\n",
    "                v[i].append( round ( (random.uniform(0.1, 0.5)*vel[i][j]) + \n",
    "                            (random.uniform(1.5, 2.5) * r1*(pbest[i][0][j] - x[i][j])) + \n",
    "                            (random.uniform(1.5, 2.5)* r2* (gbest[0][j] - x[i][j])) ) )\n",
    "        #if tt > 0 :\n",
    "        #    print(tt, \": Turbulance recorded for Particle \", i)\n",
    "            \n",
    "    return v\n",
    "\n",
    "\n",
    "def updateX(x, vel, bound):\n",
    "    \"\"\"vel: A list of list with velocities of particles [[velocity],...,[velocity]] \n",
    "       x: current position of swarm members\n",
    "       bound: boundary constraints [(a,b),...,(c,d)]\"\"\"\n",
    "    NX = []\n",
    "    for i in range(len(x)):\n",
    "        NX.append([])\n",
    "        \n",
    "        for j in range(len(x[0])):\n",
    "            NX[i].append( round (x[i][j] + vel[i][j]) )\n",
    "            #print(x)\n",
    "            if NX[i][j] < bound[j][0] or NX[i][j] > bound[j][1]:\n",
    "                NX[i][j] = round ( random.uniform(bound[j][0],bound[j][1]) )\n",
    "            \n",
    "    return NX"
   ]
  },
  {
   "cell_type": "code",
   "execution_count": 9,
   "metadata": {},
   "outputs": [],
   "source": [
    "def CPSO(function, nc, dimension, bounds, population, runs):\n",
    "    \"\"\" funtion: function to be optimized\n",
    "        nc: number of constraints\n",
    "        dimension: dimension of problem\n",
    "        bounds: upper and lower bound for each dimension\n",
    "        population: number of particles in the swarm\n",
    "        runs: number of interations \"\"\"\n",
    "    \n",
    "    positions = InitializeX(population, dimension, bounds)\n",
    "    velocities = InitializeV(population, dimension, bounds)\n",
    "    \n",
    "    c1 = 1.5\n",
    "    c2 = 0.5\n",
    "    w = 0.6\n",
    "    \n",
    "    i = 0\n",
    "    \n",
    "    while i < runs : \n",
    "        # Turbulance Operator\n",
    "        temp =  i /runs\n",
    "        ProbT = (temp**1.7) - (2.0*temp) + 1 \n",
    "        #print(ProbTurb)\n",
    "    \n",
    "        if i == 0:\n",
    "            pbest = [(i,function(i, nc)) for i in positions]\n",
    "            pbest, gbest = PGbest(function, nc, positions, pbest, pbest[0])\n",
    "        \n",
    "        velocities = updateV(velocities, positions, pbest, gbest, ProbT, w, c1, c2)\n",
    "        positions = updateX(positions, velocities, bounds)\n",
    "        pbest, gbest = PGbest(function, nc, positions, pbest, gbest)\n",
    "        \n",
    "        if i%int(runs*0.05) == 0 :\n",
    "            print(\"Genaration: \", i, \" Function Value: \", gbest[1][0], \" Voilated Constraints: \", gbest[1][1])\n",
    "        \n",
    "        i += 1\n",
    "        \n",
    "        #print(min ([function(i) for i in X]))\n",
    "        \n",
    "    return gbest"
   ]
  },
  {
   "cell_type": "markdown",
   "metadata": {},
   "source": [
    "For C1, found a minima at \n",
    "\n",
    "[0.3839749318553818,\n",
    "  0.5309699037883124,\n",
    "  0.6870035109228104,\n",
    "  0.6342181916415011,\n",
    "  0.7371223220075054,\n",
    "  0.09089851269384253,\n",
    "  0.6199743093932358,\n",
    "  0.5034335150336067,\n",
    "  0.5713648462285218,\n",
    "  1.2333271878964789,\n",
    "  0.23280650979497342,\n",
    "  0.22671552024457675,\n",
    "  0.9897380967271239],\n",
    " (-33.80134561164435, 0)\n",
    " \n",
    "([0.302912870057118,\n",
    "  0.9018417105145846,\n",
    "  0.7948066070528094,\n",
    "  0.48973420062946027,\n",
    "  0.3944978343062452,\n",
    "  0.9983807718835119,\n",
    "  0.6790318387436395,\n",
    "  0.514301615752897,\n",
    "  0.48988704201240507,\n",
    "  0.2365692376537467,\n",
    "  0.8412532249093417,\n",
    "  0.15722398920460634,\n",
    "  0.1206386715491258],\n",
    " (-39.531360475177884, 0))"
   ]
  },
  {
   "cell_type": "code",
   "execution_count": 10,
   "metadata": {},
   "outputs": [
    {
     "ename": "NameError",
     "evalue": "name 'C3' is not defined",
     "output_type": "error",
     "traceback": [
      "\u001b[1;31m---------------------------------------------------------------------------\u001b[0m",
      "\u001b[1;31mNameError\u001b[0m                                 Traceback (most recent call last)",
      "\u001b[1;32m<ipython-input-10-690f4276018b>\u001b[0m in \u001b[0;36m<module>\u001b[1;34m()\u001b[0m\n\u001b[0;32m      6\u001b[0m \u001b[0mIter\u001b[0m \u001b[1;33m=\u001b[0m \u001b[1;36m8400\u001b[0m\u001b[1;33m\u001b[0m\u001b[0m\n\u001b[0;32m      7\u001b[0m \u001b[1;33m\u001b[0m\u001b[0m\n\u001b[1;32m----> 8\u001b[1;33m \u001b[0mCPSO\u001b[0m\u001b[1;33m(\u001b[0m\u001b[0mC3\u001b[0m\u001b[1;33m,\u001b[0m \u001b[0mnc\u001b[0m\u001b[1;33m,\u001b[0m \u001b[0mD\u001b[0m\u001b[1;33m,\u001b[0m \u001b[0mbounds\u001b[0m\u001b[1;33m,\u001b[0m \u001b[0mpop\u001b[0m\u001b[1;33m,\u001b[0m \u001b[0mIter\u001b[0m\u001b[1;33m)\u001b[0m\u001b[1;33m\u001b[0m\u001b[0m\n\u001b[0m",
      "\u001b[1;31mNameError\u001b[0m: name 'C3' is not defined"
     ]
    }
   ],
   "source": [
    "   \n",
    "nc = 9\n",
    "D = 13\n",
    "bounds = [(0,1),(0,1),(0,1),(0,1),(0,1),(0,1),(0,1),(0,1),(0,1),(0,100),(0,100),(0,100),(0,1)]\n",
    "pop = 40\n",
    "Iter = 8400\n",
    "\n",
    "CPSO(C3, nc, D, bounds, pop, Iter)"
   ]
  },
  {
   "cell_type": "code",
   "execution_count": null,
   "metadata": {},
   "outputs": [],
   "source": []
  },
  {
   "cell_type": "code",
   "execution_count": null,
   "metadata": {},
   "outputs": [],
   "source": []
  },
  {
   "cell_type": "code",
   "execution_count": null,
   "metadata": {},
   "outputs": [],
   "source": []
  },
  {
   "cell_type": "code",
   "execution_count": null,
   "metadata": {},
   "outputs": [],
   "source": []
  }
 ],
 "metadata": {
  "kernelspec": {
   "display_name": "Python [default]",
   "language": "python",
   "name": "python3"
  },
  "language_info": {
   "codemirror_mode": {
    "name": "ipython",
    "version": 3
   },
   "file_extension": ".py",
   "mimetype": "text/x-python",
   "name": "python",
   "nbconvert_exporter": "python",
   "pygments_lexer": "ipython3",
   "version": "3.5.6"
  }
 },
 "nbformat": 4,
 "nbformat_minor": 2
}
